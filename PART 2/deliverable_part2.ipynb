{
 "cells": [
  {
   "cell_type": "code",
   "execution_count": 25,
   "metadata": {},
   "outputs": [
    {
     "ename": "ModuleNotFoundError",
     "evalue": "No module named 'IRWA_202324'",
     "output_type": "error",
     "traceback": [
      "\u001b[1;31m---------------------------------------------------------------------------\u001b[0m",
      "\u001b[1;31mModuleNotFoundError\u001b[0m                       Traceback (most recent call last)",
      "\u001b[1;32mc:\\Users\\Usuario\\Desktop\\UNI\\4t\\IRWA\\IRWA_202324\\PART 2\\deliverable_part2.ipynb Cell 1\u001b[0m line \u001b[0;36m1\n\u001b[0;32m     <a href='vscode-notebook-cell:/c%3A/Users/Usuario/Desktop/UNI/4t/IRWA/IRWA_202324/PART%202/deliverable_part2.ipynb#W5sZmlsZQ%3D%3D?line=10'>11</a>\u001b[0m \u001b[39mimport\u001b[39;00m \u001b[39mpandas\u001b[39;00m \u001b[39mas\u001b[39;00m \u001b[39mpd\u001b[39;00m\n\u001b[0;32m     <a href='vscode-notebook-cell:/c%3A/Users/Usuario/Desktop/UNI/4t/IRWA/IRWA_202324/PART%202/deliverable_part2.ipynb#W5sZmlsZQ%3D%3D?line=11'>12</a>\u001b[0m \u001b[39mimport\u001b[39;00m \u001b[39mre\u001b[39;00m\n\u001b[1;32m---> <a href='vscode-notebook-cell:/c%3A/Users/Usuario/Desktop/UNI/4t/IRWA/IRWA_202324/PART%202/deliverable_part2.ipynb#W5sZmlsZQ%3D%3D?line=13'>14</a>\u001b[0m \u001b[39mfrom\u001b[39;00m \u001b[39mIRWA_202324\u001b[39;00m\u001b[39m.\u001b[39;00m\u001b[39msrc\u001b[39;00m\u001b[39m.\u001b[39;00m\u001b[39mdata_processing\u001b[39;00m \u001b[39mimport\u001b[39;00m create_and_clean_dataset\n",
      "\u001b[1;31mModuleNotFoundError\u001b[0m: No module named 'IRWA_202324'"
     ]
    }
   ],
   "source": [
    "from collections import defaultdict\n",
    "from array import array\n",
    "from nltk.stem import PorterStemmer\n",
    "from nltk.corpus import stopwords\n",
    "import math\n",
    "import numpy as np\n",
    "import collections\n",
    "from numpy import linalg as la\n",
    "import time\n",
    "import nltk\n",
    "import pandas as pd\n",
    "import re\n",
    "\n",
    "from src.data_processing import create_and_clean_dataset"
   ]
  },
  {
   "cell_type": "code",
   "execution_count": 12,
   "metadata": {},
   "outputs": [
    {
     "ename": "NameError",
     "evalue": "name 'create_and_clean_dataset' is not defined",
     "output_type": "error",
     "traceback": [
      "\u001b[1;31m---------------------------------------------------------------------------\u001b[0m",
      "\u001b[1;31mNameError\u001b[0m                                 Traceback (most recent call last)",
      "\u001b[1;32mc:\\Users\\Usuario\\Desktop\\UNI\\4t\\IRWA\\IRWA_202324\\PART 2\\deliverable_part2.ipynb Cell 2\u001b[0m line \u001b[0;36m3\n\u001b[0;32m      <a href='vscode-notebook-cell:/c%3A/Users/Usuario/Desktop/UNI/4t/IRWA/IRWA_202324/PART%202/deliverable_part2.ipynb#W1sZmlsZQ%3D%3D?line=0'>1</a>\u001b[0m DATA_FILE \u001b[39m=\u001b[39m \u001b[39m'\u001b[39m\u001b[39m../data/Rus_Ukr_war_data.json\u001b[39m\u001b[39m'\u001b[39m\n\u001b[1;32m----> <a href='vscode-notebook-cell:/c%3A/Users/Usuario/Desktop/UNI/4t/IRWA/IRWA_202324/PART%202/deliverable_part2.ipynb#W1sZmlsZQ%3D%3D?line=2'>3</a>\u001b[0m tweets \u001b[39m=\u001b[39m create_and_clean_dataset(DATA_FILE)\n",
      "\u001b[1;31mNameError\u001b[0m: name 'create_and_clean_dataset' is not defined"
     ]
    }
   ],
   "source": [
    "DATA_FILE = '../data/Rus_Ukr_war_data.json'\n",
    "\n",
    "tweets = create_and_clean_dataset(DATA_FILE)"
   ]
  },
  {
   "cell_type": "code",
   "execution_count": null,
   "metadata": {},
   "outputs": [],
   "source": []
  }
 ],
 "metadata": {
  "kernelspec": {
   "display_name": "Python 3",
   "language": "python",
   "name": "python3"
  },
  "language_info": {
   "codemirror_mode": {
    "name": "ipython",
    "version": 3
   },
   "file_extension": ".py",
   "mimetype": "text/x-python",
   "name": "python",
   "nbconvert_exporter": "python",
   "pygments_lexer": "ipython3",
   "version": "3.8.8"
  }
 },
 "nbformat": 4,
 "nbformat_minor": 2
}
